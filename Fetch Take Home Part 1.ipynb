{
 "cells": [
  {
   "cell_type": "markdown",
   "metadata": {
    "application/vnd.databricks.v1+cell": {
     "cellMetadata": {},
     "inputWidgets": {},
     "nuid": "0e0ca417-535c-4693-a27e-209f8198c7a9",
     "showTitle": false,
     "tableResultSettingsMap": {},
     "title": ""
    }
   },
   "source": [
    "# Analysis Plan\n",
    "* Import the 3 files into databricks.\n",
    "* In the following sections, i will use both Sql and Pandas to work on the problem.\n",
    "* Since databricks creates pyspark dataframe, i transform it into pandas for easy manipulation.\n",
    "* After initial reading on the data, i would focus on a few things for each table:\n",
    "  - transaction:\n",
    "    - missing values in each column \n",
    "    - purchase by date, scan by date , by store\n",
    "    - distinct stores, users, scans \n",
    "    - duplicate scan of receipt\n",
    "    - relation between barcode, final quantity and final sale columns\n",
    "\n",
    "  - User:\n",
    "    - tenure for customer \n",
    "    - any dob issues, \n",
    "    - gender distribution, state distribution, language distribution, \n",
    "    - any missing values\n",
    "\n",
    "  - Product:\n",
    "    - Identify the hireachy in the 4 categories\n",
    "    - missing of manufacture and brand \n",
    "    - barcard associate with each brand\n",
    "\n",
    "* after initial understanding of the tables, need to join the transaction with user to get user_join_date and then use barcode to join with product to understand product category. \n",
    "  - a few analysis we can put together\n",
    "    - preferred category for each user\n",
    "    - preferred store for each user\n",
    "    - avg freq/ dollar value generated from each user\n",
    "    - any scan time preference \n",
    "    - top manufacture's scan frequency, dollar value, store distribution\n",
    "    - invalid barcode? or invalid scan\n",
    "\n"
   ]
  },
  {
   "cell_type": "code",
   "execution_count": 0,
   "metadata": {
    "application/vnd.databricks.v1+cell": {
     "cellMetadata": {
      "byteLimit": 2048000,
      "rowLimit": 10000
     },
     "inputWidgets": {},
     "nuid": "c6fd8f56-e708-40ad-bd6a-a41363384d8f",
     "showTitle": false,
     "tableResultSettingsMap": {},
     "title": ""
    }
   },
   "outputs": [],
   "source": [
    "import pandas as pd\n",
    "import numpy as np"
   ]
  },
  {
   "cell_type": "code",
   "execution_count": 0,
   "metadata": {
    "application/vnd.databricks.v1+cell": {
     "cellMetadata": {
      "byteLimit": 2048000,
      "implicitDf": true,
      "rowLimit": 10000
     },
     "inputWidgets": {},
     "nuid": "c126b92a-2c06-46ee-95ce-fed33a261284",
     "showTitle": false,
     "tableResultSettingsMap": {},
     "title": ""
    }
   },
   "outputs": [],
   "source": [
    "transaction_df = spark.sql(\"SELECT * FROM transaction\").toPandas()"
   ]
  },
  {
   "cell_type": "code",
   "execution_count": 0,
   "metadata": {
    "application/vnd.databricks.v1+cell": {
     "cellMetadata": {
      "byteLimit": 2048000,
      "rowLimit": 10000
     },
     "inputWidgets": {},
     "nuid": "92965784-3a39-45c1-bfc7-6e913ac1a9da",
     "showTitle": false,
     "tableResultSettingsMap": {},
     "title": ""
    }
   },
   "outputs": [],
   "source": [
    "transaction_df.head(5)"
   ]
  },
  {
   "cell_type": "markdown",
   "metadata": {
    "application/vnd.databricks.v1+cell": {
     "cellMetadata": {},
     "inputWidgets": {},
     "nuid": "f4d6ca7c-2392-46da-a79e-d2b7ad41f9c7",
     "showTitle": false,
     "tableResultSettingsMap": {},
     "title": ""
    }
   },
   "source": [
    "# transaction: missing values\n"
   ]
  },
  {
   "cell_type": "code",
   "execution_count": 0,
   "metadata": {
    "application/vnd.databricks.v1+cell": {
     "cellMetadata": {
      "byteLimit": 2048000,
      "rowLimit": 10000
     },
     "inputWidgets": {},
     "nuid": "54de84a3-8df6-428a-8bd3-bde0d65ebd96",
     "showTitle": false,
     "tableResultSettingsMap": {},
     "title": ""
    }
   },
   "outputs": [],
   "source": [
    "print(transaction_df.shape)\n",
    "transaction_df.describe()\n",
    "# so barcode and final sale both have some missing values.\n",
    "# the final quantity column should be a number, so we need to check that"
   ]
  },
  {
   "cell_type": "code",
   "execution_count": 0,
   "metadata": {
    "application/vnd.databricks.v1+cell": {
     "cellMetadata": {
      "byteLimit": 2048000,
      "implicitDf": true,
      "rowLimit": 10000
     },
     "inputWidgets": {},
     "nuid": "11f04aa9-2da9-46dd-848a-14f194c2f60f",
     "showTitle": false,
     "tableResultSettingsMap": {},
     "title": ""
    }
   },
   "outputs": [],
   "source": [
    "%sql\n",
    "select distinct(FINAL_QUANTITY), count(*) as cnt from transaction\n",
    "group by 1\n",
    "order by cnt\n",
    "-- the final quantity field should be an integer, however the data has outlier values such as 1.24, 1.44 etc, this seems to be some data issues\n",
    "-- majority of the quantity is 1 and 0, let's transform zero to 0 and transform this field to a decimal field"
   ]
  },
  {
   "cell_type": "code",
   "execution_count": 0,
   "metadata": {
    "application/vnd.databricks.v1+cell": {
     "cellMetadata": {
      "byteLimit": 2048000,
      "rowLimit": 10000
     },
     "inputWidgets": {},
     "nuid": "36533fdf-6510-412e-83b6-cedfc37970a9",
     "showTitle": false,
     "tableResultSettingsMap": {},
     "title": ""
    }
   },
   "outputs": [],
   "source": [
    "transaction_df.FINAL_QUANTITY.replace('zero', 0, inplace=True)\n",
    "transaction_df.FINAL_QUANTITY = pd.to_numeric(transaction_df.FINAL_QUANTITY)"
   ]
  },
  {
   "cell_type": "code",
   "execution_count": 0,
   "metadata": {
    "application/vnd.databricks.v1+cell": {
     "cellMetadata": {
      "byteLimit": 2048000,
      "rowLimit": 10000
     },
     "inputWidgets": {},
     "nuid": "8f6d55dd-cac4-4579-9392-237a7afd6692",
     "showTitle": false,
     "tableResultSettingsMap": {},
     "title": ""
    }
   },
   "outputs": [],
   "source": [
    "transaction_df.head(5)"
   ]
  },
  {
   "cell_type": "code",
   "execution_count": 0,
   "metadata": {
    "application/vnd.databricks.v1+cell": {
     "cellMetadata": {
      "byteLimit": 2048000,
      "rowLimit": 10000
     },
     "inputWidgets": {},
     "nuid": "b21efa94-0353-426d-b7f3-e556cdc91b13",
     "showTitle": false,
     "tableResultSettingsMap": {},
     "title": ""
    }
   },
   "outputs": [],
   "source": [
    "# Missing in each Column\n",
    "nan_counts = transaction_df.isna().sum()\n",
    "nan_counts\n",
    "## so there are no missing values in most fields, other than barcode (5762) and final sale (12500)"
   ]
  },
  {
   "cell_type": "markdown",
   "metadata": {
    "application/vnd.databricks.v1+cell": {
     "cellMetadata": {},
     "inputWidgets": {},
     "nuid": "3766b3e0-39ef-4e1b-a5df-68534d093a5f",
     "showTitle": false,
     "tableResultSettingsMap": {},
     "title": ""
    }
   },
   "source": [
    "# transaction: duplicate record"
   ]
  },
  {
   "cell_type": "code",
   "execution_count": 0,
   "metadata": {
    "application/vnd.databricks.v1+cell": {
     "cellMetadata": {
      "byteLimit": 2048000,
      "rowLimit": 10000
     },
     "inputWidgets": {},
     "nuid": "b1cd0b9c-af0e-4092-b79d-63fdb9bc1b79",
     "showTitle": false,
     "tableResultSettingsMap": {},
     "title": ""
    }
   },
   "outputs": [],
   "source": [
    "#distinct stores, users, BARCODES, receipts\n",
    "print(transaction_df.RECEIPT_ID.nunique()) ##24440\n",
    "print(transaction_df.USER_ID.nunique()) ##17694\n",
    "print(transaction_df.STORE_NAME.nunique()) ##954\n",
    "print(transaction_df.BARCODE.nunique()) ##11027"
   ]
  },
  {
   "cell_type": "code",
   "execution_count": 0,
   "metadata": {
    "application/vnd.databricks.v1+cell": {
     "cellMetadata": {
      "byteLimit": 2048000,
      "implicitDf": true,
      "rowLimit": 10000
     },
     "inputWidgets": {},
     "nuid": "b45451fa-fe32-4870-8ff2-1ee1108a39f2",
     "showTitle": false,
     "tableResultSettingsMap": {},
     "title": ""
    }
   },
   "outputs": [],
   "source": [
    "%sql\n",
    "select count(*) from (\n",
    "  select distinct * from transaction\n",
    ")\n",
    "-- there are 171 records that are pure duplicates "
   ]
  },
  {
   "cell_type": "code",
   "execution_count": 0,
   "metadata": {
    "application/vnd.databricks.v1+cell": {
     "cellMetadata": {
      "byteLimit": 2048000,
      "implicitDf": true,
      "rowLimit": 10000
     },
     "inputWidgets": {},
     "nuid": "6adbff17-874f-4137-9684-5f7e2e8aa18f",
     "showTitle": false,
     "tableResultSettingsMap": {},
     "title": ""
    }
   },
   "outputs": [],
   "source": [
    "%sql\n",
    "-- what does duplicate receipt mean\n",
    "select receipt_id, count(receipt_id) from transaction group by 1 having count(RECEIPT_ID) > 1 order by count(RECEIPT_ID) desc"
   ]
  },
  {
   "cell_type": "code",
   "execution_count": 0,
   "metadata": {
    "application/vnd.databricks.v1+cell": {
     "cellMetadata": {
      "byteLimit": 2048000,
      "implicitDf": true,
      "rowLimit": 10000
     },
     "inputWidgets": {},
     "nuid": "b3e03de3-955d-4bdf-ae71-3821fe6285db",
     "showTitle": false,
     "tableResultSettingsMap": {},
     "title": ""
    }
   },
   "outputs": [],
   "source": [
    "%sql\n",
    "select distinct * from transaction where RECEIPT_ID = 'bedac253-2256-461b-96af-267748e6cecf'\n",
    "-- this receipt record has 12 rows, 3 distinct rows. "
   ]
  },
  {
   "cell_type": "code",
   "execution_count": 0,
   "metadata": {
    "application/vnd.databricks.v1+cell": {
     "cellMetadata": {
      "byteLimit": 2048000,
      "implicitDf": true,
      "rowLimit": 10000
     },
     "inputWidgets": {},
     "nuid": "5c6ae39c-1b82-41ce-b540-65423566e168",
     "showTitle": false,
     "tableResultSettingsMap": {},
     "title": ""
    }
   },
   "outputs": [],
   "source": [
    "%sql\n",
    "-- check one assumption: every receipt only have one row that's valid, which has a non 'zero' quantity and not null sale amount\n",
    "select count(distinct receipt_id )from transaction \n",
    "where FINAL_QUANTITY != 'zero' and FINAL_SALE is not null\n",
    "--24440\n",
    "-- that is the same amount as the distinct receipt in the transaction table, the assumption is correct"
   ]
  },
  {
   "cell_type": "markdown",
   "metadata": {
    "application/vnd.databricks.v1+cell": {
     "cellMetadata": {},
     "inputWidgets": {},
     "nuid": "4a20f69d-5c5c-499d-a6b7-74aa1b5e7916",
     "showTitle": false,
     "tableResultSettingsMap": {},
     "title": ""
    }
   },
   "source": [
    "## dedup on the receiptID"
   ]
  },
  {
   "cell_type": "code",
   "execution_count": 0,
   "metadata": {
    "application/vnd.databricks.v1+cell": {
     "cellMetadata": {
      "byteLimit": 2048000,
      "implicitDf": true,
      "rowLimit": 10000
     },
     "inputWidgets": {},
     "nuid": "fba579f3-40f4-43f7-9f44-d19277c56082",
     "showTitle": false,
     "tableResultSettingsMap": {},
     "title": ""
    }
   },
   "outputs": [],
   "source": [
    "%sql\n",
    "create or replace table new_transaction as\n",
    "select * from transaction where FINAL_QUANTITY != 'zero' and FINAL_SALE is not null"
   ]
  },
  {
   "cell_type": "code",
   "execution_count": 0,
   "metadata": {
    "application/vnd.databricks.v1+cell": {
     "cellMetadata": {
      "byteLimit": 2048000,
      "rowLimit": 10000
     },
     "inputWidgets": {},
     "nuid": "6c597ce4-885d-44f7-90bf-a75835dac0ff",
     "showTitle": false,
     "tableResultSettingsMap": {},
     "title": ""
    }
   },
   "outputs": [],
   "source": [
    "new_transaction_df = spark.sql(\"SELECT * FROM new_transaction\").toPandas()"
   ]
  },
  {
   "cell_type": "code",
   "execution_count": 0,
   "metadata": {
    "application/vnd.databricks.v1+cell": {
     "cellMetadata": {
      "byteLimit": 2048000,
      "rowLimit": 10000
     },
     "inputWidgets": {},
     "nuid": "0b4abd3b-e79a-4dba-a850-be5822aab6a8",
     "showTitle": false,
     "tableResultSettingsMap": {},
     "title": ""
    }
   },
   "outputs": [],
   "source": [
    "new_transaction_df.describe()"
   ]
  },
  {
   "cell_type": "code",
   "execution_count": 0,
   "metadata": {
    "application/vnd.databricks.v1+cell": {
     "cellMetadata": {
      "byteLimit": 2048000,
      "rowLimit": 10000
     },
     "inputWidgets": {},
     "nuid": "76b60c3f-3636-4195-a5c0-1444d4c1e4ef",
     "showTitle": false,
     "tableResultSettingsMap": {},
     "title": ""
    }
   },
   "outputs": [],
   "source": [
    "new_transaction_df.isna().sum()\n",
    "# barcode 2881"
   ]
  },
  {
   "cell_type": "markdown",
   "metadata": {
    "application/vnd.databricks.v1+cell": {
     "cellMetadata": {},
     "inputWidgets": {},
     "nuid": "a9fdac26-0a1d-46cf-ac05-9cd6c0ac7272",
     "showTitle": false,
     "tableResultSettingsMap": {},
     "title": ""
    }
   },
   "source": [
    "# transaction: count of receipt by dimensions"
   ]
  },
  {
   "cell_type": "code",
   "execution_count": 0,
   "metadata": {
    "application/vnd.databricks.v1+cell": {
     "cellMetadata": {
      "byteLimit": 2048000,
      "rowLimit": 10000
     },
     "inputWidgets": {},
     "nuid": "3cec9505-18b1-48c4-a1e8-3c3c9e6960c2",
     "showTitle": false,
     "tableResultSettingsMap": {},
     "title": ""
    }
   },
   "outputs": [],
   "source": [
    "new_transaction_df.head(5)"
   ]
  },
  {
   "cell_type": "code",
   "execution_count": 0,
   "metadata": {
    "application/vnd.databricks.v1+cell": {
     "cellMetadata": {
      "byteLimit": 2048000,
      "implicitDf": true,
      "rowLimit": 10000
     },
     "inputWidgets": {},
     "nuid": "0b7eeba0-b076-439c-b761-e772d27dfe23",
     "showTitle": false,
     "tableResultSettingsMap": {},
     "title": ""
    }
   },
   "outputs": [],
   "source": [
    "%sql\n",
    "select * from new_transaction\n",
    "where BARCODE <= 0\n",
    "-- 4 records"
   ]
  },
  {
   "cell_type": "code",
   "execution_count": 0,
   "metadata": {
    "application/vnd.databricks.v1+cell": {
     "cellMetadata": {
      "byteLimit": 2048000,
      "implicitDf": true,
      "rowLimit": 10000
     },
     "inputWidgets": {},
     "nuid": "9197100b-b5d7-479f-ba1b-f97b5d9bf859",
     "showTitle": false,
     "tableResultSettingsMap": {},
     "title": ""
    }
   },
   "outputs": [],
   "source": [
    "%sql\n",
    "--is there any receipt belongs to two different user\n",
    "select receipt_id, count(distinct USER_ID) from new_transaction\n",
    "group by 1\n",
    "having count(distinct USER_ID) > 1\n",
    "-- no"
   ]
  },
  {
   "cell_type": "code",
   "execution_count": 0,
   "metadata": {
    "application/vnd.databricks.v1+cell": {
     "cellMetadata": {
      "byteLimit": 2048000,
      "implicitDf": true,
      "rowLimit": 10000
     },
     "inputWidgets": {},
     "nuid": "bb13143f-2371-48b8-9963-7fba79be7130",
     "showTitle": false,
     "tableResultSettingsMap": {},
     "title": ""
    }
   },
   "outputs": [],
   "source": [
    "%sql\n",
    "select STORE_NAME\t, count(RECEIPT_ID) from new_transaction\n",
    "where BARCODE is null\n",
    "group by 1\n",
    "order by  count(RECEIPT_ID)\n",
    "-- there is no specific day that have a lot of null barcode\n",
    "-- however, ~40% null barcode are coming from ALDI and CVS store"
   ]
  },
  {
   "cell_type": "code",
   "execution_count": 0,
   "metadata": {
    "application/vnd.databricks.v1+cell": {
     "cellMetadata": {
      "byteLimit": 2048000,
      "implicitDf": true,
      "rowLimit": 10000
     },
     "inputWidgets": {},
     "nuid": "3ea08b76-c09a-4d36-98fb-51b928e059f7",
     "showTitle": false,
     "tableResultSettingsMap": {},
     "title": ""
    }
   },
   "outputs": [],
   "source": [
    "%sql\n",
    "select PURCHASE_DATE, count(*) from new_transaction group by 1 order by 1"
   ]
  },
  {
   "cell_type": "code",
   "execution_count": 0,
   "metadata": {
    "application/vnd.databricks.v1+cell": {
     "cellMetadata": {
      "byteLimit": 2048000,
      "rowLimit": 10000
     },
     "inputWidgets": {},
     "nuid": "a843eb1d-ef23-456c-9008-c1817183bf06",
     "showTitle": false,
     "tableResultSettingsMap": {},
     "title": ""
    }
   },
   "outputs": [],
   "source": [
    "new_transaction_df.groupby('PURCHASE_DATE')['RECEIPT_ID'].count().plot(kind='line')\n",
    "## Looks like there is a decrese in purchasing "
   ]
  },
  {
   "cell_type": "code",
   "execution_count": 0,
   "metadata": {
    "application/vnd.databricks.v1+cell": {
     "cellMetadata": {
      "byteLimit": 2048000,
      "implicitDf": true,
      "rowLimit": 10000
     },
     "inputWidgets": {},
     "nuid": "a4d4fdb3-6d72-4546-8b40-5cd87740e19b",
     "showTitle": false,
     "tableResultSettingsMap": {},
     "title": ""
    }
   },
   "outputs": [],
   "source": [
    "%sql\n",
    "select date(SCAN_DATE), count(*) from new_transaction group by 1 order by 1"
   ]
  },
  {
   "cell_type": "code",
   "execution_count": 0,
   "metadata": {
    "application/vnd.databricks.v1+cell": {
     "cellMetadata": {
      "byteLimit": 2048000,
      "rowLimit": 10000
     },
     "inputWidgets": {},
     "nuid": "075848c2-f285-4c6d-99dd-f5094858c8e5",
     "showTitle": false,
     "tableResultSettingsMap": {},
     "title": ""
    }
   },
   "outputs": [],
   "source": [
    "from datetime import datetime\n",
    "new_transaction_df['SCAN_DATE_YMD'] = new_transaction_df['SCAN_DATE'].dt.strftime(\"%Y-%m-%d\")\n",
    "# new_transaction_df.head(10)\n",
    "new_transaction_df.groupby('SCAN_DATE_YMD')['RECEIPT_ID'].count().plot(kind='line')\n",
    "## Other than the first day and outlier day 2024-07-01, the scan and purchase seems to be consistent with each other"
   ]
  },
  {
   "cell_type": "markdown",
   "metadata": {
    "application/vnd.databricks.v1+cell": {
     "cellMetadata": {},
     "inputWidgets": {},
     "nuid": "9fb2a345-3be6-4fcb-b664-680a2c2c00f8",
     "showTitle": false,
     "tableResultSettingsMap": {},
     "title": ""
    }
   },
   "source": [
    "## Scan date 2024-07-01 has a spike, what happened"
   ]
  },
  {
   "cell_type": "code",
   "execution_count": 0,
   "metadata": {
    "application/vnd.databricks.v1+cell": {
     "cellMetadata": {
      "byteLimit": 2048000,
      "implicitDf": true,
      "rowLimit": 10000
     },
     "inputWidgets": {},
     "nuid": "79c141c7-80b5-4465-981a-1a2be37e5b85",
     "showTitle": false,
     "tableResultSettingsMap": {},
     "title": ""
    }
   },
   "outputs": [],
   "source": [
    "%sql\n",
    "select date(SCAN_DATE) as scan_ymd, count(distinct STORE_NAME) from new_transaction\n",
    "group by 1"
   ]
  },
  {
   "cell_type": "code",
   "execution_count": 0,
   "metadata": {
    "application/vnd.databricks.v1+cell": {
     "cellMetadata": {
      "byteLimit": 2048000,
      "implicitDf": true,
      "rowLimit": 10000
     },
     "inputWidgets": {},
     "nuid": "ba4e6901-f5b2-4e71-8cb7-35a352219c17",
     "showTitle": false,
     "tableResultSettingsMap": {},
     "title": ""
    }
   },
   "outputs": [],
   "source": [
    "%sql\n",
    "select count(distinct STORE_NAME) from new_transaction\n",
    "where date(SCAN_DATE) = '2024-07-01'\n",
    "-- 550 scans from 536 users, but from 91 stores which is the highest in the three month data "
   ]
  },
  {
   "cell_type": "code",
   "execution_count": 0,
   "metadata": {
    "application/vnd.databricks.v1+cell": {
     "cellMetadata": {
      "byteLimit": 2048000,
      "implicitDf": true,
      "rowLimit": 10000
     },
     "inputWidgets": {},
     "nuid": "9903bbe7-e393-44f2-a24d-89bde25449ec",
     "showTitle": false,
     "tableResultSettingsMap": {},
     "title": ""
    }
   },
   "outputs": [],
   "source": [
    "%sql\n",
    "select date(SCAN_DATE) , STORE_NAME, count(*) from new_transaction\n",
    "-- where date(SCAN_DATE) = '2024-07-01'\n",
    "group by 1,2\n",
    "order by 1, count(*) desc\n",
    "-- on '2024-07-01', almost 150 more scans from Walmart and ALDI"
   ]
  },
  {
   "cell_type": "code",
   "execution_count": 0,
   "metadata": {
    "application/vnd.databricks.v1+cell": {
     "cellMetadata": {
      "byteLimit": 2048000,
      "implicitDf": true,
      "rowLimit": 10000
     },
     "inputWidgets": {},
     "nuid": "9ee3bd31-dc13-4692-80cd-83ebb749792f",
     "showTitle": false,
     "tableResultSettingsMap": {},
     "title": ""
    }
   },
   "outputs": [],
   "source": [
    "%sql\n",
    "-- what's the date difference between purchase and scan\n",
    "select diff, count(receipt_id) from (\n",
    "  select RECEIPT_ID, date_diff(SCAN_DATE, PURCHASE_DATE) AS diff \n",
    "  from new_transaction\n",
    ")\n",
    "group by 1\n",
    "order by 1\n",
    "--  47 receipts have scan before purchase"
   ]
  },
  {
   "cell_type": "code",
   "execution_count": 0,
   "metadata": {
    "application/vnd.databricks.v1+cell": {
     "cellMetadata": {
      "byteLimit": 2048000,
      "implicitDf": true,
      "rowLimit": 10000
     },
     "inputWidgets": {},
     "nuid": "5e0c1f00-e9ec-4492-999e-086b932e5246",
     "showTitle": false,
     "tableResultSettingsMap": {},
     "title": ""
    }
   },
   "outputs": [],
   "source": [
    "%sql\n",
    "select  STORE_NAME, count(*) from new_transaction\n",
    "group by 1\n",
    "order by  count(*) desc\n",
    "limit 10\n",
    "-- walmart is the biggest store partner, followed by DOLLAR GENERAL STORE"
   ]
  },
  {
   "cell_type": "code",
   "execution_count": 0,
   "metadata": {
    "application/vnd.databricks.v1+cell": {
     "cellMetadata": {
      "byteLimit": 2048000,
      "implicitDf": true,
      "rowLimit": 10000
     },
     "inputWidgets": {},
     "nuid": "50c13fed-aa18-419e-b5fb-b3ff2021bf98",
     "showTitle": false,
     "tableResultSettingsMap": {},
     "title": ""
    }
   },
   "outputs": [],
   "source": [
    "%sql\n",
    "select  USER_ID, count(*) from new_transaction\n",
    "group by 1\n",
    "order by  count(*) desc\n",
    "limit 10\n",
    "-- User distribution seems reasonable, no significant outlier "
   ]
  },
  {
   "cell_type": "markdown",
   "metadata": {
    "application/vnd.databricks.v1+cell": {
     "cellMetadata": {},
     "inputWidgets": {},
     "nuid": "976ff969-e3a7-4fd3-bb19-e93747aaccf8",
     "showTitle": false,
     "tableResultSettingsMap": {},
     "title": ""
    }
   },
   "source": [
    "# Data Issues identified in Transaction table\n",
    "- The final quantity field contains non integer value, and zero needs to be transformed to 0 to ensure this field's data quality\n",
    "- The missing value in barcode is about 11% and in final sale is about 25%\n",
    "- finding: There are duplicate rows and duplicate receipt ID with similar information in the table. after investigate the table, each receipt ID have multiple rows where only one of them should be the actual receipt w/ correct quantity and correct sale amount. \n",
    "\n",
    "- after dedup, the barcode column still have ~12% missing values and invalid input (such as -1). The missing barcode happens across all days but mostly show up in ALDI and CVS stores. \n",
    "- there are 47 records have a scan date before purchase date, which should be invalid too.\n",
    "\n"
   ]
  },
  {
   "cell_type": "markdown",
   "metadata": {
    "application/vnd.databricks.v1+cell": {
     "cellMetadata": {},
     "inputWidgets": {},
     "nuid": "8a9772c6-43c3-4783-b0b3-4dda1ccf73e3",
     "showTitle": false,
     "tableResultSettingsMap": {},
     "title": ""
    }
   },
   "source": [
    "# User: missing values"
   ]
  },
  {
   "cell_type": "code",
   "execution_count": 0,
   "metadata": {
    "application/vnd.databricks.v1+cell": {
     "cellMetadata": {
      "byteLimit": 2048000,
      "rowLimit": 10000
     },
     "inputWidgets": {},
     "nuid": "d43fa891-00a3-4bec-a923-6f5f1ff34eef",
     "showTitle": false,
     "tableResultSettingsMap": {},
     "title": ""
    }
   },
   "outputs": [],
   "source": [
    "user_df = spark.sql(\"SELECT * FROM user\").toPandas()"
   ]
  },
  {
   "cell_type": "code",
   "execution_count": 0,
   "metadata": {
    "application/vnd.databricks.v1+cell": {
     "cellMetadata": {
      "byteLimit": 2048000,
      "rowLimit": 10000
     },
     "inputWidgets": {},
     "nuid": "c3ca3fc9-ffcc-4785-a423-8465944d3b7f",
     "showTitle": false,
     "tableResultSettingsMap": {},
     "title": ""
    }
   },
   "outputs": [],
   "source": [
    "user_df.head(5)"
   ]
  },
  {
   "cell_type": "code",
   "execution_count": 0,
   "metadata": {
    "application/vnd.databricks.v1+cell": {
     "cellMetadata": {
      "byteLimit": 2048000,
      "rowLimit": 10000
     },
     "inputWidgets": {},
     "nuid": "b81a0716-2f77-44c0-89ce-86817af41cca",
     "showTitle": false,
     "tableResultSettingsMap": {},
     "title": ""
    }
   },
   "outputs": [],
   "source": [
    "user_df.shape\n",
    "#(100000, 6)"
   ]
  },
  {
   "cell_type": "code",
   "execution_count": 0,
   "metadata": {
    "application/vnd.databricks.v1+cell": {
     "cellMetadata": {
      "byteLimit": 2048000,
      "rowLimit": 10000
     },
     "inputWidgets": {},
     "nuid": "368e50eb-c85a-451c-8819-f3625aebdf83",
     "showTitle": false,
     "tableResultSettingsMap": {},
     "title": ""
    }
   },
   "outputs": [],
   "source": [
    "user_df.isna().sum()"
   ]
  },
  {
   "cell_type": "markdown",
   "metadata": {
    "application/vnd.databricks.v1+cell": {
     "cellMetadata": {},
     "inputWidgets": {},
     "nuid": "d5548bd0-69ae-48ae-b919-621c4dd6e205",
     "showTitle": false,
     "tableResultSettingsMap": {},
     "title": ""
    }
   },
   "source": [
    "# User: distribution"
   ]
  },
  {
   "cell_type": "code",
   "execution_count": 0,
   "metadata": {
    "application/vnd.databricks.v1+cell": {
     "cellMetadata": {
      "byteLimit": 2048000,
      "implicitDf": true,
      "rowLimit": 10000
     },
     "inputWidgets": {},
     "nuid": "f3e81fb5-72a4-4b6b-9316-0719d5216c32",
     "showTitle": false,
     "tableResultSettingsMap": {},
     "title": ""
    }
   },
   "outputs": [],
   "source": [
    "%sql\n",
    "-- No duplicate ID \n",
    "create or replace view user_tenure_age as \n",
    "select id,  STATE, LANGUAGE, GENDER, tenure_month, signup_age,created_day, birthday,\n",
    "case when tenure_month < 0 then '0 - Special'\n",
    "     when tenure_month >= 0 and tenure_month <= 12 then '1 - 0-12M'\n",
    "     when tenure_month > 12 and tenure_month <= 24 then '2 - 12-24M'\n",
    "     else '3 - 24M+'\n",
    "     end as Tenure_grp,\n",
    "case when signup_age <= 0 then '0 - Special'\n",
    "     when signup_age > 0 and signup_age < 10 then '1 - Under 10'\n",
    "     when signup_age >= 10 and signup_age < 18 then '2 - 10-17'\n",
    "     when signup_age >= 18 and signup_age < 30 then '3 - 18-29'\n",
    "     when signup_age >= 30 and signup_age < 45 then '4 - 30-44'\n",
    "     when signup_age >= 45 and signup_age < 100 then '5 - 45-99'\n",
    "     else '6 - 100+'\n",
    "     end as Age_grp\n",
    "from (   \n",
    "  select id, STATE, LANGUAGE, GENDER,  date(created_date) as created_day, date(BIRTH_DATE) as birthday,\n",
    "  round(date_diff('2024-09-08', date(created_date))/30,1) as tenure_month,\n",
    "  round(date_diff(date(CREATED_DATE),date(BIRTH_DATE)) / 365,1) as signup_age\n",
    "  from user\n",
    ")"
   ]
  },
  {
   "cell_type": "code",
   "execution_count": 0,
   "metadata": {
    "application/vnd.databricks.v1+cell": {
     "cellMetadata": {
      "byteLimit": 2048000,
      "rowLimit": 10000
     },
     "inputWidgets": {},
     "nuid": "2dbc3c54-0980-48ee-8a17-79b720fe720a",
     "showTitle": false,
     "tableResultSettingsMap": {},
     "title": ""
    }
   },
   "outputs": [],
   "source": [
    "user_grp_df = spark.sql(\"SELECT * FROM user_tenure_age\").toPandas()"
   ]
  },
  {
   "cell_type": "code",
   "execution_count": 0,
   "metadata": {
    "application/vnd.databricks.v1+cell": {
     "cellMetadata": {
      "byteLimit": 2048000,
      "rowLimit": 10000
     },
     "inputWidgets": {},
     "nuid": "c59eba60-b91b-4ab2-b3ba-494a77824abf",
     "showTitle": false,
     "tableResultSettingsMap": {},
     "title": ""
    }
   },
   "outputs": [],
   "source": [
    "user_grp_df.groupby('Tenure_grp')['id'].count().plot(kind='bar')"
   ]
  },
  {
   "cell_type": "code",
   "execution_count": 0,
   "metadata": {
    "application/vnd.databricks.v1+cell": {
     "cellMetadata": {
      "byteLimit": 2048000,
      "rowLimit": 10000
     },
     "inputWidgets": {},
     "nuid": "00633146-1ed4-4ced-84b3-f9e0c7cb8508",
     "showTitle": false,
     "tableResultSettingsMap": {},
     "title": ""
    }
   },
   "outputs": [],
   "source": [
    "user_grp_df.groupby('Age_grp')['id'].count().plot(kind='bar')"
   ]
  },
  {
   "cell_type": "code",
   "execution_count": 0,
   "metadata": {
    "application/vnd.databricks.v1+cell": {
     "cellMetadata": {
      "byteLimit": 2048000,
      "implicitDf": true,
      "rowLimit": 10000
     },
     "inputWidgets": {},
     "nuid": "da83305a-b459-4cb2-ad75-ac4b15f21974",
     "showTitle": false,
     "tableResultSettingsMap": {},
     "title": ""
    }
   },
   "outputs": [],
   "source": [
    "%sql\n",
    "select tenure_grp, Age_grp, count(*) from user_tenure_age\n",
    "group by 1,2\n",
    "order by 1,2"
   ]
  },
  {
   "cell_type": "code",
   "execution_count": 0,
   "metadata": {
    "application/vnd.databricks.v1+cell": {
     "cellMetadata": {
      "byteLimit": 2048000,
      "implicitDf": true,
      "rowLimit": 10000
     },
     "inputWidgets": {},
     "nuid": "c95b1d09-b83a-494a-bdb0-e95c6ad164cd",
     "showTitle": false,
     "tableResultSettingsMap": {},
     "title": ""
    }
   },
   "outputs": [],
   "source": [
    "%sql\n",
    "select * from user_tenure_age\n",
    "where Tenure_grp = '0 - Special'\n",
    "-- this is fine since the Sep 08 is just the max date in the transaction. "
   ]
  },
  {
   "cell_type": "code",
   "execution_count": 0,
   "metadata": {
    "application/vnd.databricks.v1+cell": {
     "cellMetadata": {
      "byteLimit": 2048000,
      "implicitDf": true,
      "rowLimit": 10000
     },
     "inputWidgets": {},
     "nuid": "3f462ffe-9b5b-4c5c-b773-cc8a3bf1b89e",
     "showTitle": false,
     "tableResultSettingsMap": {},
     "title": ""
    }
   },
   "outputs": [],
   "source": [
    "%sql\n",
    "select gender, count(*) from user_tenure_age\n",
    "group by 1\n",
    "-- gender has duplicate values, need better definition"
   ]
  },
  {
   "cell_type": "code",
   "execution_count": 0,
   "metadata": {
    "application/vnd.databricks.v1+cell": {
     "cellMetadata": {
      "byteLimit": 2048000,
      "implicitDf": true,
      "rowLimit": 10000
     },
     "inputWidgets": {},
     "nuid": "14845981-ca3a-4e42-b6bc-bad47dd32298",
     "showTitle": false,
     "tableResultSettingsMap": {},
     "title": ""
    }
   },
   "outputs": [],
   "source": [
    "%sql\n",
    "select state, count(*) from user_tenure_age\n",
    "group by 1\n",
    "order by count(*) desc\n",
    "-- state looks good"
   ]
  },
  {
   "cell_type": "code",
   "execution_count": 0,
   "metadata": {
    "application/vnd.databricks.v1+cell": {
     "cellMetadata": {
      "byteLimit": 2048000,
      "implicitDf": true,
      "rowLimit": 10000
     },
     "inputWidgets": {},
     "nuid": "fa95990a-bbc0-481a-8ff7-84c71b8ca37a",
     "showTitle": false,
     "tableResultSettingsMap": {},
     "title": ""
    }
   },
   "outputs": [],
   "source": [
    "%sql\n",
    "select language, count(*) from user_tenure_age\n",
    "group by 1\n",
    "order by count(*) desc\n",
    "-- language has a lot missing, is this a mandantory field? "
   ]
  },
  {
   "cell_type": "markdown",
   "metadata": {
    "application/vnd.databricks.v1+cell": {
     "cellMetadata": {},
     "inputWidgets": {},
     "nuid": "4e096677-dd57-4513-81b3-56c9a7811283",
     "showTitle": false,
     "tableResultSettingsMap": {},
     "title": ""
    }
   },
   "source": [
    "# Data Issues identified in User table\n",
    "- All columns except ID and created date has some missing, language missing the most\n",
    "- why would the birth date have HHMMSS?\n",
    "- There are 57 records that have a birth date after the create date or under 10 year old at creation. They are all tenured customers.\n",
    "- in every tenure group, there are customers who claimed to be 100 years old +, probably need some attention.\n",
    "- the gender column have duplicated values, such as prefer_not_to_say and Prefer not to say, My gender isn't listed and not_listed. Need clarify on this field.\n",
    "\n"
   ]
  },
  {
   "cell_type": "markdown",
   "metadata": {
    "application/vnd.databricks.v1+cell": {
     "cellMetadata": {},
     "inputWidgets": {},
     "nuid": "94930f54-4f0b-4639-8a8c-f956011cb2e6",
     "showTitle": false,
     "tableResultSettingsMap": {},
     "title": ""
    }
   },
   "source": [
    "# Product: missing values"
   ]
  },
  {
   "cell_type": "code",
   "execution_count": 0,
   "metadata": {
    "application/vnd.databricks.v1+cell": {
     "cellMetadata": {
      "byteLimit": 2048000,
      "rowLimit": 10000
     },
     "inputWidgets": {},
     "nuid": "8b276fcf-f692-4d00-8e64-f0ae96a5c947",
     "showTitle": false,
     "tableResultSettingsMap": {},
     "title": ""
    }
   },
   "outputs": [],
   "source": [
    "product_df = spark.sql(\"SELECT * FROM products\").toPandas()"
   ]
  },
  {
   "cell_type": "code",
   "execution_count": 0,
   "metadata": {
    "application/vnd.databricks.v1+cell": {
     "cellMetadata": {
      "byteLimit": 2048000,
      "rowLimit": 10000
     },
     "inputWidgets": {},
     "nuid": "67d8ddc8-f8bb-4625-848c-1ed7ded28068",
     "showTitle": false,
     "tableResultSettingsMap": {},
     "title": ""
    }
   },
   "outputs": [],
   "source": [
    "product_df.head(5)"
   ]
  },
  {
   "cell_type": "code",
   "execution_count": 0,
   "metadata": {
    "application/vnd.databricks.v1+cell": {
     "cellMetadata": {
      "byteLimit": 2048000,
      "rowLimit": 10000
     },
     "inputWidgets": {},
     "nuid": "402a982f-6eca-498b-95c1-b2f55120b271",
     "showTitle": false,
     "tableResultSettingsMap": {},
     "title": ""
    }
   },
   "outputs": [],
   "source": [
    "product_df.shape\n",
    "#(845552, 7)"
   ]
  },
  {
   "cell_type": "code",
   "execution_count": 0,
   "metadata": {
    "application/vnd.databricks.v1+cell": {
     "cellMetadata": {
      "byteLimit": 2048000,
      "rowLimit": 10000
     },
     "inputWidgets": {},
     "nuid": "dcba0867-b7ad-4028-9d35-62000d2d7e42",
     "showTitle": false,
     "tableResultSettingsMap": {},
     "title": ""
    }
   },
   "outputs": [],
   "source": [
    "product_df.isna().sum()"
   ]
  },
  {
   "cell_type": "markdown",
   "metadata": {
    "application/vnd.databricks.v1+cell": {
     "cellMetadata": {},
     "inputWidgets": {},
     "nuid": "7b3f45d8-513b-41a3-bd59-2877e185901a",
     "showTitle": false,
     "tableResultSettingsMap": {},
     "title": ""
    }
   },
   "source": [
    "# Product: Hireachy on category"
   ]
  },
  {
   "cell_type": "code",
   "execution_count": 0,
   "metadata": {
    "application/vnd.databricks.v1+cell": {
     "cellMetadata": {
      "byteLimit": 2048000,
      "implicitDf": true,
      "rowLimit": 10000
     },
     "inputWidgets": {},
     "nuid": "e3c9a5da-dffd-4c4a-9308-5bcfec6d1323",
     "showTitle": false,
     "tableResultSettingsMap": {},
     "title": ""
    }
   },
   "outputs": [],
   "source": [
    "%sql\n",
    "select * from products\n",
    "where CATEGORY_1 is null\n",
    "-- if category 1 is missing, the rest are all missing. which might indicate category 1 is the highest hireachy of product category, but still hard to understand\n",
    "-- and looking at the examples here, these brands are popular ones, where i checked on the brand and other barcodes would have the category. I think at least the category 1 should be matched to the brand. "
   ]
  },
  {
   "cell_type": "code",
   "execution_count": 0,
   "metadata": {
    "application/vnd.databricks.v1+cell": {
     "cellMetadata": {
      "byteLimit": 2048000,
      "implicitDf": true,
      "rowLimit": 10000
     },
     "inputWidgets": {},
     "nuid": "38e8c055-4fd1-4946-afde-cbe0c2345358",
     "showTitle": false,
     "tableResultSettingsMap": {},
     "title": ""
    }
   },
   "outputs": [],
   "source": [
    "%sql\n",
    "select  category_1, CATEGORY_2, CATEGORY_3, CATEGORY_4, count(*) from products\n",
    "group by 1,2,3,4\n",
    "order by 1,2,3,4"
   ]
  },
  {
   "cell_type": "markdown",
   "metadata": {
    "application/vnd.databricks.v1+cell": {
     "cellMetadata": {},
     "inputWidgets": {},
     "nuid": "3e7282ce-d93c-442d-a930-f2f819aa0ce7",
     "showTitle": false,
     "tableResultSettingsMap": {},
     "title": ""
    }
   },
   "source": [
    "# Product: missing barcode"
   ]
  },
  {
   "cell_type": "code",
   "execution_count": 0,
   "metadata": {
    "application/vnd.databricks.v1+cell": {
     "cellMetadata": {
      "byteLimit": 2048000,
      "implicitDf": true,
      "rowLimit": 10000
     },
     "inputWidgets": {},
     "nuid": "6e50aba8-2d95-4f1c-bc3e-e7eaa04695c9",
     "showTitle": false,
     "tableResultSettingsMap": {},
     "title": ""
    }
   },
   "outputs": [],
   "source": [
    "%sql\n",
    "select * from products\n",
    "where MANUFACTURER is null"
   ]
  },
  {
   "cell_type": "code",
   "execution_count": 0,
   "metadata": {
    "application/vnd.databricks.v1+cell": {
     "cellMetadata": {
      "byteLimit": 2048000,
      "implicitDf": true,
      "rowLimit": 10000
     },
     "inputWidgets": {},
     "nuid": "b698d9a1-05ed-49d9-acf7-2d551bdf6c1f",
     "showTitle": false,
     "tableResultSettingsMap": {},
     "title": ""
    }
   },
   "outputs": [],
   "source": [
    "%sql\n",
    "select * from products\n",
    "where barcode is null"
   ]
  },
  {
   "cell_type": "code",
   "execution_count": 0,
   "metadata": {
    "application/vnd.databricks.v1+cell": {
     "cellMetadata": {
      "byteLimit": 2048000,
      "implicitDf": true,
      "rowLimit": 10000
     },
     "inputWidgets": {},
     "nuid": "872b5a2f-fe69-447e-b4f7-d78e2da4a15a",
     "showTitle": false,
     "tableResultSettingsMap": {},
     "title": ""
    }
   },
   "outputs": [],
   "source": [
    "%sql\n",
    "select brand, count(*), count(case when barcode is null then 1 end) as barcode_missing_cnt, \n",
    "round(count(case when barcode is null then 1 end) / count(*),2) * 100 as missing_barcode_pct\n",
    " from products\n",
    "-- where barcode is null\n",
    "group by 1\n",
    "order by missing_barcode_pct desc"
   ]
  },
  {
   "cell_type": "markdown",
   "metadata": {
    "application/vnd.databricks.v1+cell": {
     "cellMetadata": {},
     "inputWidgets": {},
     "nuid": "c3ba0c74-9919-4e3c-8824-3b712830db35",
     "showTitle": false,
     "tableResultSettingsMap": {},
     "title": ""
    }
   },
   "source": [
    "# Product: relation between manufacture, brand and category"
   ]
  },
  {
   "cell_type": "code",
   "execution_count": 0,
   "metadata": {
    "application/vnd.databricks.v1+cell": {
     "cellMetadata": {
      "byteLimit": 2048000,
      "implicitDf": true,
      "rowLimit": 10000
     },
     "inputWidgets": {},
     "nuid": "c4387a0f-6774-4815-8753-79b5404963cc",
     "showTitle": false,
     "tableResultSettingsMap": {},
     "title": ""
    }
   },
   "outputs": [],
   "source": [
    "%sql\n",
    "select CATEGORY_1, MANUFACTURER, brand, count(*) from products\n",
    "group by 1,2,3\n",
    "order by count(*) desc"
   ]
  },
  {
   "cell_type": "code",
   "execution_count": 0,
   "metadata": {
    "application/vnd.databricks.v1+cell": {
     "cellMetadata": {
      "byteLimit": 2048000,
      "implicitDf": true,
      "rowLimit": 10000
     },
     "inputWidgets": {},
     "nuid": "8219d2eb-39be-408b-803a-2bae713c428e",
     "showTitle": false,
     "tableResultSettingsMap": {},
     "title": ""
    }
   },
   "outputs": [],
   "source": [
    "%sql\n",
    "-- could there be a brand that belong to multiple manufacture\n",
    "\n",
    "select brand, count(distinct manufacturer) from products\n",
    "group by 1\n",
    "having count(distinct manufacturer) > 1"
   ]
  },
  {
   "cell_type": "code",
   "execution_count": 0,
   "metadata": {
    "application/vnd.databricks.v1+cell": {
     "cellMetadata": {
      "byteLimit": 2048000,
      "implicitDf": true,
      "rowLimit": 10000
     },
     "inputWidgets": {},
     "nuid": "df10597b-2ab0-486e-91bc-35a19213da82",
     "showTitle": false,
     "tableResultSettingsMap": {},
     "title": ""
    }
   },
   "outputs": [],
   "source": [
    "%sql\n",
    "select distinct MANUFACTURER, brand from products\n",
    "where brand in ('LE PETIT MARSEILIAIS','TYGAZ','CHAPSTICK')\n"
   ]
  },
  {
   "cell_type": "code",
   "execution_count": 0,
   "metadata": {
    "application/vnd.databricks.v1+cell": {
     "cellMetadata": {
      "byteLimit": 2048000,
      "implicitDf": true,
      "rowLimit": 10000
     },
     "inputWidgets": {},
     "nuid": "6b6abf73-1d6a-46e0-b2e1-b9ea95378990",
     "showTitle": false,
     "tableResultSettingsMap": {},
     "title": ""
    }
   },
   "outputs": [],
   "source": [
    "%sql\n",
    "-- could there be a brand that belong to multiple category_1\n",
    "\n",
    "select brand, count(distinct category_1) from products\n",
    "group by 1\n",
    "having count(distinct category_1) > 1"
   ]
  },
  {
   "cell_type": "code",
   "execution_count": 0,
   "metadata": {
    "application/vnd.databricks.v1+cell": {
     "cellMetadata": {
      "byteLimit": 2048000,
      "implicitDf": true,
      "rowLimit": 10000
     },
     "inputWidgets": {},
     "nuid": "ac1a41ff-68a2-4a6f-9ce4-257bc55232d3",
     "showTitle": false,
     "tableResultSettingsMap": {},
     "title": ""
    }
   },
   "outputs": [],
   "source": [
    "%sql\n",
    "-- could there be a MANUFACTURER that belong to multiple category_1\n",
    "\n",
    "select MANUFACTURER, count(distinct category_1) from products\n",
    "group by 1\n",
    "\n",
    "having count(distinct category_1) > 1\n",
    "order by count(distinct category_1) desc"
   ]
  },
  {
   "cell_type": "code",
   "execution_count": 0,
   "metadata": {
    "application/vnd.databricks.v1+cell": {
     "cellMetadata": {
      "byteLimit": 2048000,
      "implicitDf": true,
      "rowLimit": 10000
     },
     "inputWidgets": {},
     "nuid": "6ad22bf3-7396-4c83-8761-f1fcc76c424e",
     "showTitle": false,
     "tableResultSettingsMap": {},
     "title": ""
    }
   },
   "outputs": [],
   "source": [
    "%sql\n",
    "select distinct category_1, manufacturer from products\n",
    "where MANUFACTURER in ('KEURIG DR PEPPER','THE COCA-COLA COMPANY','PEPSICO')"
   ]
  },
  {
   "cell_type": "markdown",
   "metadata": {
    "application/vnd.databricks.v1+cell": {
     "cellMetadata": {},
     "inputWidgets": {},
     "nuid": "3cc9bebb-3272-4405-994e-6de9a0f9b604",
     "showTitle": false,
     "tableResultSettingsMap": {},
     "title": ""
    }
   },
   "source": [
    "# Data Issues identified in Product table\n",
    "- All columns have missing values, manufacture and brand are 1-1 match on missing(27%).\n",
    "- if category 1 is missing, the rest categories are all missing. which might indicate category 1 is the highest hireachy of product category, but still hard to understand. The hireachy on product need better definition. \n",
    "- Category 1 have a 'Needs Review' value, super confusing\n",
    "- there are 69 brands that have no barcode for all products they have, which doesn't make sense. And another 100 have like half of products with no barcode\n",
    "- there are brand value = \"brand not known\"  and manufacture = 'Unknown'\n",
    "- there are three brands that belongs to multiple manufacture\n",
    "- there are many brand/ manufacture falls into 2 category_1, the definition of category_1 is very unclear\n",
    "- following on the previous point, the most multiple category per manufacture are some beverage company like keurig dr pepper, pepsi, and their category_1 is definitely wild\n",
    "\n",
    "\n"
   ]
  },
  {
   "cell_type": "markdown",
   "metadata": {
    "application/vnd.databricks.v1+cell": {
     "cellMetadata": {},
     "inputWidgets": {},
     "nuid": "b0e2e193-cda2-4bba-9285-a94c52f384ad",
     "showTitle": false,
     "tableResultSettingsMap": {},
     "title": ""
    }
   },
   "source": [
    "# Summarization on Part 1"
   ]
  },
  {
   "cell_type": "markdown",
   "metadata": {
    "application/vnd.databricks.v1+cell": {
     "cellMetadata": {},
     "inputWidgets": {},
     "nuid": "5664b4f1-dfb7-4509-9e15-d3ea953e08b4",
     "showTitle": false,
     "tableResultSettingsMap": {},
     "title": ""
    }
   },
   "source": [
    "**Are there any data quality issues present?**"
   ]
  },
  {
   "cell_type": "markdown",
   "metadata": {
    "application/vnd.databricks.v1+cell": {
     "cellMetadata": {},
     "inputWidgets": {},
     "nuid": "b66ac201-2d50-46c4-82f1-cd2ff2e7d79e",
     "showTitle": false,
     "tableResultSettingsMap": {},
     "title": ""
    }
   },
   "source": [
    "-  There are missing values in many columns, the most need attention one is the barcode missing in both transaction and product table\n",
    "- The transaction table has many duplicate records, after the investigation, my assumption is when the receipt ID have both quantity (not zero) and sale amount present, that's the row we should keep for this receipt in the transaction table.\n",
    "- The final quantity field in the transaction table contain non-interger value which i am not sure if that's correct.\n",
    "- There are transaction records that have a scan date before purchase date.\n",
    "- There are user records that have a birth date after the create account date, or under 10 year old or above 100 year old at creation.\n",
    "- The gender column have similar but distinct values, which could be combined to make it clear.\n",
    "- The product category columns are very confusing with so many missing values. \n",
    "- The missing barcode is concerning in the product table, there are 69 brands that have no barcode for all products they have.\n",
    "- Category contains value like \"Need Review\". Brand value is \"brand not known\" and manufacture is 'Unknown'.\n",
    "- There are three brands that belongs to multiple manufacture\n",
    "- There are manufactures that belongs to multiple categories \n"
   ]
  },
  {
   "cell_type": "markdown",
   "metadata": {
    "application/vnd.databricks.v1+cell": {
     "cellMetadata": {},
     "inputWidgets": {},
     "nuid": "43f080dc-8c40-4ec7-98a2-9140e93fb718",
     "showTitle": false,
     "tableResultSettingsMap": {},
     "title": ""
    }
   },
   "source": [
    "Are there any fields that are challenging to understand?"
   ]
  },
  {
   "cell_type": "markdown",
   "metadata": {
    "application/vnd.databricks.v1+cell": {
     "cellMetadata": {},
     "inputWidgets": {},
     "nuid": "e2f18be6-59b1-4237-9285-54b1586910e6",
     "showTitle": false,
     "tableResultSettingsMap": {},
     "title": ""
    }
   },
   "source": [
    "- Final quantity in transaction table : non interger value exist\n",
    "- Purchase date and scan date: Assumption is Purchase date means the date on the receipt, scan date is the date the receipt is uploaded to fetch\n",
    "- DOB in user table: why it has HHMMDD\n",
    "- Product Category 1,2,3,4 in Product table: What's the relation between them, is there a hireachy between them, what does each category represent.\n",
    "- Product Barcode in Product: What does Barcode represent, does it mean item number"
   ]
  }
 ],
 "metadata": {
  "application/vnd.databricks.v1+notebook": {
   "computePreferences": null,
   "dashboards": [],
   "environmentMetadata": {
    "base_environment": "",
    "environment_version": "2"
   },
   "language": "python",
   "notebookMetadata": {
    "mostRecentlyExecutedCommandWithImplicitDF": {
     "commandId": 2060460900017438,
     "dataframes": [
      "_sqldf"
     ]
    },
    "pythonIndentUnit": 4
   },
   "notebookName": "Fetch Take Home",
   "widgets": {}
  },
  "language_info": {
   "name": "python"
  }
 },
 "nbformat": 4,
 "nbformat_minor": 0
}
