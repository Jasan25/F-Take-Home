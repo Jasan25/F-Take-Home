{
 "cells": [
  {
   "cell_type": "markdown",
   "metadata": {
    "application/vnd.databricks.v1+cell": {
     "cellMetadata": {},
     "inputWidgets": {},
     "nuid": "eadfa250-70b9-45ab-97ad-3ad5c9270bc4",
     "showTitle": false,
     "tableResultSettingsMap": {},
     "title": ""
    }
   },
   "source": [
    "\n",
    "Hi \n",
    "\n",
    "I recently completed an investigation into the data in our user, product and transaction spaces. I would like to share my findings, along with a few requests for support on enhancing the data quality:\n",
    "\n",
    "## Key Data Quality Issues:\n",
    "\n",
    "***Missing Values***:\n",
    "\n",
    "Barcode: Both the transaction and product tables are missing barcode data, which is critical for tracking individual items. \n",
    "\n",
    "***Duplicate Records***:\n",
    "\n",
    "The transaction table contains duplicate records and requires cleaning up.\n",
    "\n",
    "***Data Consistency Issues***:\n",
    "\n",
    "There are multiple inconsistencies across the data, including non-integer values in the final quantity field, discrepancies between purchase and scan dates, unusual birth dates in user records, and varying formats in the gender column. These need to be clarified and corrected to ensure accuracy.\n",
    "\n",
    "***Product Table Issues***:\n",
    "\n",
    "The product categories in the product table are unclear, with many missing values. It’s important to understand if these categories are hierarchical and how they relate to each other and brand/ manufacture. \n",
    "There are also values like \"Need Review,\" \"brand not known,\" and \"Unknown\" in the brand and manufacturer fields, which need to be addressed. \n",
    "\n",
    "## Interesting Finding:\n",
    "\n",
    "I noticed a significant trend in user growth: the percentage of new users signing up each year has been decreasing steadily over time. For instance, the growth percentage peaked at 819% in 2017 but has since dropped to negative growth in 2023 and 2024. This could indicate a slowdown in user acquisition, which may require further investigation to understand the underlying factors.\n",
    "\n",
    "## Request for Support:\n",
    "To proceed with resolving these issues, I would need:\n",
    "\n",
    "Clarification on the \"Final Quantity\" field: Should non-integer values be considered valid, or should we round or filter them?\n",
    "\n",
    "Context on how we should handle missing and inconsistent barcode data: What steps can we take to retrieve this missing information for the affected products and brands?\n",
    "\n",
    "Rule for dedup on transactions: How does transaction table got created and which key is the primary key we can use for this table? \n",
    "\n",
    "Insight into the relationship between product categories and brand: Are there specific hierarchies, or should these categories be treated as independent attributes? Should there be one category that is a 1-1 matching to a brand?\n",
    "\n",
    "Confirmation on the treatment of user birth dates and account creation dates: Are there any rules regarding how to handle ages outside the expected range?\n",
    "\n",
    "***These data quality issues must be addressed to ensure the integrity of our analysis and subsequent decisions. Once we clarify these areas, I’ll be able to clean the data and proceed with further analysis.***\n",
    "\n",
    "Let me know if you have any questions or need more details!"
   ]
  }
 ],
 "metadata": {
  "application/vnd.databricks.v1+notebook": {
   "computePreferences": null,
   "dashboards": [],
   "environmentMetadata": {
    "base_environment": "",
    "environment_version": "2"
   },
   "language": "sql",
   "notebookMetadata": {},
   "notebookName": "Fetch Take Home Pt3",
   "widgets": {}
  },
  "language_info": {
   "name": "sql"
  }
 },
 "nbformat": 4,
 "nbformat_minor": 0
}
